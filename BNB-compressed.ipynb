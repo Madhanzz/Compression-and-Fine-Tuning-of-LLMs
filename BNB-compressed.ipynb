{
 "cells": [
  {
   "cell_type": "code",
   "execution_count": 1,
   "metadata": {
    "colab": {
     "base_uri": "https://localhost:8080/",
     "height": 1000,
     "referenced_widgets": [
      "db662b9b9d7d42a4a85a8ceae1db0bcf",
      "b9fb9414d8984d12bbe80f6ece7b09ba",
      "b373a9bf4d8a4034958e4ee48f7eebcb",
      "88b69ad19b50412ba03f6c8792c258ce",
      "3d4f9fc39efc44d7b576c1160c9b3bc3",
      "046f2849c13941d5b382659ed39fc719",
      "64f80459ecd841bca9ae3e4ba90a1053",
      "c6940dee6c7940f5a16fbb0998809547",
      "ea14edbe53bf492382e8936d53ac88b2",
      "56c43e1fdd114b53bf2098b4a3c8b658",
      "64916a7253514ce9a7a27b35544a5f8b",
      "100a8022e2d647ccb4b9197835b1eba6",
      "c399bc5f40ce44f79f9ff1b477260132",
      "67029641ec6d41078e35579b90b14661",
      "e35d8f68dbe64652b92217940fc3caaf",
      "3bf7e7125f204550adf0bfccb90b6a9d",
      "8a73012220834434ac503b14d2847ef0",
      "317ec6ff00d44302a2b3346969f069d8",
      "2a45ddb3e45146d990d4810d51b62d97",
      "003bf5c1024f489db8ee28b108f5a90f",
      "553915a55e694982bfa11a24a55383a9",
      "d9661baf82984750b69cdd4d6d3fe71f",
      "33fc5c37bd3c40eba4f3efed3ea721a4",
      "b9398102c2ab41d2834e39a445792a45",
      "b29bcb6895fc4c8cb9f7d6042b2a24e2",
      "df05cf17960b48608efaa2defa379ad3",
      "73ce2e4f4fe74b399d6b6733ae208673",
      "6bfb54ee24a64d989b8e5487567ad59c",
      "28515604c99941db89bc143fd48e606a",
      "8ca2c7fae7ad45a6a71d86f41c02ead4",
      "02125df881fc4e7a93c3aaa56b781a81",
      "18f02c598cd04506922c14a813e3b3ee",
      "237ee1b2be4a4c0091ef700533838ef6",
      "418141f3d17045198aec335638a8edc2",
      "040bd54ed547494ca6d417df5b21f2b7",
      "b3eb9d4e88f54e5fac8f350361c2d2a0",
      "4e9c5ef604ba437f93d541f3dd9c42ef",
      "14500bdd52d940cd82b9077c5304c1d1",
      "8ad9e8f8202d46cbb6fe9fb36b575700",
      "f0bd684a0e854963b67268a2436c3c8e",
      "89873a66f1d84cf1ab6499ac111a844e",
      "583a5bc65a4c4aa6a9f0de8dc3dadc8b",
      "3740088fd2d34c05a87bb5158b3f1d86",
      "3345254acb0f477eababd9db35ea13ca",
      "73e437f6f2a94d2ba7e2ca802dae01fb",
      "e0150c346b7846e3a130677ee339c199",
      "662991adefb64a339ce15e6440891241",
      "61b60f2be1864005a582a781b349b9c7",
      "42102a746301481884b77e55b2a04502",
      "285293830f514decbb3e83bd442bc9be",
      "4338ec43f36a478e9f78c8c83fc987f3",
      "e63e9f74568b448f98637f4f0805bd97",
      "2b52fb45a7eb4656bead84cbd7fc565d",
      "797dcd79c5454f9a88993652b9dc608c",
      "043f760826f64237bc857907b1b8ffa0",
      "70a3c1a9ba98461c93a01609fbbac3ca",
      "563337d2faf1448da2d5728ae8f56f52",
      "7a6f486cc75941ddba205f8a4d702c5f",
      "4c94784c654e44e4b1148df9b1bda383",
      "6c09b7a5e3014253a60fe99119dbf3bb",
      "6ad3b8bd95e143c2bbf19bf2ce59ce98",
      "a3fef61e7fef42fdbbc188b037d7178f",
      "c97ec5852d58448c8a674b535005ec8d",
      "81f4ce91d4ee4255a4ba6d853e6e48a2",
      "c2a1229e5781470987962703dc466946",
      "be24e38614c64bddb1a174233ca7dd03",
      "7fa7d504e3b64839b3396ab1bc6d1754",
      "f6efa8071254492890f5e529deec1487",
      "1dd5065cb5964e0590ddbfa9282335e6",
      "f5b0635b0b174b5cb26e1eff9258268e",
      "8a483e2773db4b218114123baf83d6ef",
      "0d21a62ef6cf48c49dfa88477fde3299",
      "77aff912af504f17bb68d0bcbcb79dee",
      "491a596ab9ff4df69e3d8d6ab7ed6024",
      "7bcb9566e3eb46c1a6a9bc70be01a8ca",
      "29c0d93f35d24447b9e6efc08c6753e1",
      "4e87561906b34d12a82fc0ef80b47d2f",
      "c2bf133e38d2421fb8a5f3c9fb79c9f5",
      "3f243eea6e1c439c80da559dfc7b0774",
      "3810b97f6ed4431aa4d0f290ce0b1a3d",
      "f7899daaffcf49a98e524a6bab2be0fa",
      "68cc20daaa484ca79e6921a7b5edef2f",
      "b3a362df925a41a38dc7591f8ccb43dd",
      "251160cde6804479b647dc63464d4d9b",
      "04a30c189ede42f3a56fc4b1c8def601",
      "fd3a94ae495a4a95b761e9910ddc5928",
      "bbdcd192e261431b83f717cc308722a9",
      "0f4424faed674c92a44f355c02b22178",
      "6089a1b4acb14361aaeaee8ba97eb21b",
      "bd2c32dfd1584a72bbe3e2e6894a75c9",
      "38501d644d864db7afd3c194c49711ba",
      "ffd7c3e7f510486fbcba532bbcc1a2b5",
      "912c069925f8466184a4ae11350937a3",
      "2a206123efcf42ab8482e7b719a77a00",
      "0c63b22e9b39484caa4a14fdb5aaa5b0",
      "dec133e9778d41a9b52ec0c22842f05d",
      "4adbe70c07e04ccb896c117f273764ee",
      "ebd59c5a2e7f4442a85bb541c748addd",
      "8dd88385e4ea4953a1d13a37dd88145f",
      "3ad62a8291f34942a6384fc58d513736",
      "444e111c66574d44b45cc098bb38da0e",
      "381e2ffa2467466882ef6c6e7bb1a489",
      "1973292508464326b2033a511df6fbbf",
      "1d79ff0ff5d442ebac55ac036e65fd15",
      "9223bc282df54e56b75d5a002b403590",
      "03d84cc962db4121896c7e0d360bdb8e",
      "0452057bc6d24a4c9ddedf1788910a43",
      "74514d6f57ec4daf8aecff434ac4a3d8",
      "cc6f27e18b8c46cfa8c30e62a916cc1e",
      "eb30fb7963804b889841cd92ba4bd04c",
      "295d55129ffc4aae9e658961978fb873",
      "2ed98385de4441e899c96e201e3d80e1",
      "6dd98528b7c9440f80b1e5ee6458d2ef",
      "471a5bd85f72468f96082cee8184f577",
      "701e35f9070149fda1900b53067bf094",
      "e34bab067f6f48e5adc050d1645d8bbe",
      "cb6576704b12423297e525a493a6ab27",
      "b465454ad44c44c1acf3dbd87ea95f93",
      "3656167f25d1424a87243c8870336d08",
      "57c3196b59f74f4c831defc88a5a09f9",
      "5b4132c906714445a4f1f5c3ef2afe53",
      "71cad0b68c354f7e9ac747a029800a31",
      "9640ec6335d14083949b387c9c3c0fcc",
      "29cdfdb8024f4ede8128fb2127a5729f",
      "567e34f7bcf54d5995bad3cd7865e472",
      "75bf27da12624daf85276408a62941ca",
      "f33c623e87ab4a20b2484866741ca010",
      "e45334d2773641f3914587121bcc5422",
      "716d76b5f57644f3bfe5f63d269a5ba0",
      "abbad64a47c543da83a5ffbfe4f1bd88",
      "54c74ca73fb34a4abdbaad7b541c4721",
      "1e3a00b9fbcd4730ad0b4275e92eac20",
      "c0296f3fa25644e5a027ba83490f9e36",
      "ddcec0d7d7e248e7b1cc92559e47c19a",
      "133ed347323f4ae4baf14a056e9aa7ce",
      "d4a36326b2924e4588b14acb0f77ea4d",
      "154b234be3b94ae0b19ac3ca6b90d67e",
      "00d7009200fd4bd2a3764c353e32ad8b",
      "e4aca3a36955425d88fe943533669e26",
      "ed0c5df654434179ae02010fc9ad50ad",
      "44697102ca3948f5ad85886777467853",
      "a2e098c380584ffaa28b80165f6d2354",
      "65ced2c6fa3741118124ff95ae78e5c2",
      "d59a2a6af18f4a3db7fff8c5e095589f",
      "e08a1b5582c549dc9226cc4aa74d5622",
      "1df9b86b38034a77a17c50fa0ef7447f",
      "e47e514823ed4d508dd780034fa1df42",
      "efbd37d790994071a5419eb0124ac7d4",
      "71d5a99b9b5d46c89feb3ab30eba40ae",
      "3f74545710c744fcb7e1afc354a5060d",
      "17c1b99cbc134d74a466bd9bc6ae1bf6",
      "c4df5586806c4c3694751415cb771b69",
      "aa5a5719cdc14a23b2b788079999798f",
      "de10e92a17c946c196ed94ef0bc26d20",
      "388bc1c4357441ed88252f749f60b626",
      "2cbf04ce29b94af296f87b48a1405e95",
      "a4534ce7bece42f099f99f56033398fc",
      "17e35a122ae749bbab9f5baba1400e8c",
      "6b2957425f9843858826118998177170",
      "cb36612584a14fdcab07bc79e311d56e",
      "f04300a137a9471aa78a2171fc069183",
      "090c34c5907f4922bd99da30a94946e7",
      "cd397c6a75ee4ba78ddee034b3f41f73",
      "cab6d14dca17410498439702ddc26252",
      "fbe2038d2aaa45ebb938d828a149d4db",
      "79e67a45088f4ed9b8b286d43e34729e",
      "b138d08f0567400a9df32e2b75698c9c",
      "83aee51bd0d4421e861ba10f2b0baa9b",
      "abd20244ea6f417eae158255a4e9bd21",
      "5ae633a55d3043b4a1e083916f800d09",
      "21cd88e6e1d54523aaa1cdf274775eaf",
      "4e7dde086e0e40d28e8f668582f5a5ef",
      "7bc40a1a7529414189188893d96a232f",
      "d24dab1a0ae7430e9d4f5927067e6c51",
      "c1368b2db4e542fea49a5c503a225130",
      "ad8db72548484294a4aeb21395441b95",
      "344cdda2e2ea4f4793330729e1615c21",
      "e9b902f6a0a442ae9efba60a0a61e51e",
      "50cea0cbe11447c89b04e618c32d2d93",
      "61ddd0a6350649a580c6e9f8c24103a5",
      "232c8276e80e48089f698525a42437c5",
      "96a0b73318c74c988beaa9c4bcb725e9",
      "1321c998ed654f5196119ad30abf20b8",
      "4e9bb52b55754cc2b4547b2e96226f0e",
      "068f7e05b56f48f291f9bd1dddf6535e",
      "dc5602224dee44a0b2d4c7d2fa55f3ce",
      "9074709774f3413aa9d5bf9f14200706"
     ]
    },
    "id": "2IQZefY2rQh5",
    "outputId": "7db443ba-a3f9-491c-af38-ec42542586c9"
   },
   "outputs": [
    {
     "name": "stdout",
     "output_type": "stream",
     "text": [
      "Collecting bitsandbytes\n",
      "  Downloading bitsandbytes-0.46.1-py3-none-manylinux_2_24_x86_64.whl.metadata (10 kB)\n",
      "Requirement already satisfied: transformers in /usr/local/lib/python3.11/dist-packages (4.54.0)\n",
      "Collecting transformers\n",
      "  Downloading transformers-4.54.1-py3-none-any.whl.metadata (41 kB)\n",
      "\u001b[2K     \u001b[90m━━━━━━━━━━━━━━━━━━━━━━━━━━━━━━━━━━━━━━━━\u001b[0m \u001b[32m41.7/41.7 kB\u001b[0m \u001b[31m2.3 MB/s\u001b[0m eta \u001b[36m0:00:00\u001b[0m\n",
      "\u001b[?25hRequirement already satisfied: accelerate in /usr/local/lib/python3.11/dist-packages (1.9.0)\n",
      "Requirement already satisfied: torch<3,>=2.2 in /usr/local/lib/python3.11/dist-packages (from bitsandbytes) (2.6.0+cu124)\n",
      "Requirement already satisfied: numpy>=1.17 in /usr/local/lib/python3.11/dist-packages (from bitsandbytes) (2.0.2)\n",
      "Requirement already satisfied: filelock in /usr/local/lib/python3.11/dist-packages (from transformers) (3.18.0)\n",
      "Requirement already satisfied: huggingface-hub<1.0,>=0.34.0 in /usr/local/lib/python3.11/dist-packages (from transformers) (0.34.1)\n",
      "Requirement already satisfied: packaging>=20.0 in /usr/local/lib/python3.11/dist-packages (from transformers) (25.0)\n",
      "Requirement already satisfied: pyyaml>=5.1 in /usr/local/lib/python3.11/dist-packages (from transformers) (6.0.2)\n",
      "Requirement already satisfied: regex!=2019.12.17 in /usr/local/lib/python3.11/dist-packages (from transformers) (2024.11.6)\n",
      "Requirement already satisfied: requests in /usr/local/lib/python3.11/dist-packages (from transformers) (2.32.3)\n",
      "Requirement already satisfied: tokenizers<0.22,>=0.21 in /usr/local/lib/python3.11/dist-packages (from transformers) (0.21.2)\n",
      "Requirement already satisfied: safetensors>=0.4.3 in /usr/local/lib/python3.11/dist-packages (from transformers) (0.5.3)\n",
      "Requirement already satisfied: tqdm>=4.27 in /usr/local/lib/python3.11/dist-packages (from transformers) (4.67.1)\n",
      "Requirement already satisfied: psutil in /usr/local/lib/python3.11/dist-packages (from accelerate) (5.9.5)\n",
      "Requirement already satisfied: fsspec>=2023.5.0 in /usr/local/lib/python3.11/dist-packages (from huggingface-hub<1.0,>=0.34.0->transformers) (2025.3.0)\n",
      "Requirement already satisfied: typing-extensions>=3.7.4.3 in /usr/local/lib/python3.11/dist-packages (from huggingface-hub<1.0,>=0.34.0->transformers) (4.14.1)\n",
      "Requirement already satisfied: hf-xet<2.0.0,>=1.1.3 in /usr/local/lib/python3.11/dist-packages (from huggingface-hub<1.0,>=0.34.0->transformers) (1.1.5)\n",
      "Requirement already satisfied: networkx in /usr/local/lib/python3.11/dist-packages (from torch<3,>=2.2->bitsandbytes) (3.5)\n",
      "Requirement already satisfied: jinja2 in /usr/local/lib/python3.11/dist-packages (from torch<3,>=2.2->bitsandbytes) (3.1.6)\n",
      "Collecting nvidia-cuda-nvrtc-cu12==12.4.127 (from torch<3,>=2.2->bitsandbytes)\n",
      "  Downloading nvidia_cuda_nvrtc_cu12-12.4.127-py3-none-manylinux2014_x86_64.whl.metadata (1.5 kB)\n",
      "Collecting nvidia-cuda-runtime-cu12==12.4.127 (from torch<3,>=2.2->bitsandbytes)\n",
      "  Downloading nvidia_cuda_runtime_cu12-12.4.127-py3-none-manylinux2014_x86_64.whl.metadata (1.5 kB)\n",
      "Collecting nvidia-cuda-cupti-cu12==12.4.127 (from torch<3,>=2.2->bitsandbytes)\n",
      "  Downloading nvidia_cuda_cupti_cu12-12.4.127-py3-none-manylinux2014_x86_64.whl.metadata (1.6 kB)\n",
      "Collecting nvidia-cudnn-cu12==9.1.0.70 (from torch<3,>=2.2->bitsandbytes)\n",
      "  Downloading nvidia_cudnn_cu12-9.1.0.70-py3-none-manylinux2014_x86_64.whl.metadata (1.6 kB)\n",
      "Collecting nvidia-cublas-cu12==12.4.5.8 (from torch<3,>=2.2->bitsandbytes)\n",
      "  Downloading nvidia_cublas_cu12-12.4.5.8-py3-none-manylinux2014_x86_64.whl.metadata (1.5 kB)\n",
      "Collecting nvidia-cufft-cu12==11.2.1.3 (from torch<3,>=2.2->bitsandbytes)\n",
      "  Downloading nvidia_cufft_cu12-11.2.1.3-py3-none-manylinux2014_x86_64.whl.metadata (1.5 kB)\n",
      "Collecting nvidia-curand-cu12==10.3.5.147 (from torch<3,>=2.2->bitsandbytes)\n",
      "  Downloading nvidia_curand_cu12-10.3.5.147-py3-none-manylinux2014_x86_64.whl.metadata (1.5 kB)\n",
      "Collecting nvidia-cusolver-cu12==11.6.1.9 (from torch<3,>=2.2->bitsandbytes)\n",
      "  Downloading nvidia_cusolver_cu12-11.6.1.9-py3-none-manylinux2014_x86_64.whl.metadata (1.6 kB)\n",
      "Collecting nvidia-cusparse-cu12==12.3.1.170 (from torch<3,>=2.2->bitsandbytes)\n",
      "  Downloading nvidia_cusparse_cu12-12.3.1.170-py3-none-manylinux2014_x86_64.whl.metadata (1.6 kB)\n",
      "Requirement already satisfied: nvidia-cusparselt-cu12==0.6.2 in /usr/local/lib/python3.11/dist-packages (from torch<3,>=2.2->bitsandbytes) (0.6.2)\n",
      "Requirement already satisfied: nvidia-nccl-cu12==2.21.5 in /usr/local/lib/python3.11/dist-packages (from torch<3,>=2.2->bitsandbytes) (2.21.5)\n",
      "Requirement already satisfied: nvidia-nvtx-cu12==12.4.127 in /usr/local/lib/python3.11/dist-packages (from torch<3,>=2.2->bitsandbytes) (12.4.127)\n",
      "Collecting nvidia-nvjitlink-cu12==12.4.127 (from torch<3,>=2.2->bitsandbytes)\n",
      "  Downloading nvidia_nvjitlink_cu12-12.4.127-py3-none-manylinux2014_x86_64.whl.metadata (1.5 kB)\n",
      "Requirement already satisfied: triton==3.2.0 in /usr/local/lib/python3.11/dist-packages (from torch<3,>=2.2->bitsandbytes) (3.2.0)\n",
      "Requirement already satisfied: sympy==1.13.1 in /usr/local/lib/python3.11/dist-packages (from torch<3,>=2.2->bitsandbytes) (1.13.1)\n",
      "Requirement already satisfied: mpmath<1.4,>=1.1.0 in /usr/local/lib/python3.11/dist-packages (from sympy==1.13.1->torch<3,>=2.2->bitsandbytes) (1.3.0)\n",
      "Requirement already satisfied: charset-normalizer<4,>=2 in /usr/local/lib/python3.11/dist-packages (from requests->transformers) (3.4.2)\n",
      "Requirement already satisfied: idna<4,>=2.5 in /usr/local/lib/python3.11/dist-packages (from requests->transformers) (3.10)\n",
      "Requirement already satisfied: urllib3<3,>=1.21.1 in /usr/local/lib/python3.11/dist-packages (from requests->transformers) (2.5.0)\n",
      "Requirement already satisfied: certifi>=2017.4.17 in /usr/local/lib/python3.11/dist-packages (from requests->transformers) (2025.7.14)\n",
      "Requirement already satisfied: MarkupSafe>=2.0 in /usr/local/lib/python3.11/dist-packages (from jinja2->torch<3,>=2.2->bitsandbytes) (3.0.2)\n",
      "Downloading bitsandbytes-0.46.1-py3-none-manylinux_2_24_x86_64.whl (72.9 MB)\n",
      "\u001b[2K   \u001b[90m━━━━━━━━━━━━━━━━━━━━━━━━━━━━━━━━━━━━━━━━\u001b[0m \u001b[32m72.9/72.9 MB\u001b[0m \u001b[31m12.0 MB/s\u001b[0m eta \u001b[36m0:00:00\u001b[0m\n",
      "\u001b[?25hDownloading transformers-4.54.1-py3-none-any.whl (11.2 MB)\n",
      "\u001b[2K   \u001b[90m━━━━━━━━━━━━━━━━━━━━━━━━━━━━━━━━━━━━━━━━\u001b[0m \u001b[32m11.2/11.2 MB\u001b[0m \u001b[31m57.6 MB/s\u001b[0m eta \u001b[36m0:00:00\u001b[0m\n",
      "\u001b[?25hDownloading nvidia_cublas_cu12-12.4.5.8-py3-none-manylinux2014_x86_64.whl (363.4 MB)\n",
      "\u001b[2K   \u001b[90m━━━━━━━━━━━━━━━━━━━━━━━━━━━━━━━━━━━━━━━━\u001b[0m \u001b[32m363.4/363.4 MB\u001b[0m \u001b[31m3.8 MB/s\u001b[0m eta \u001b[36m0:00:00\u001b[0m\n",
      "\u001b[?25hDownloading nvidia_cuda_cupti_cu12-12.4.127-py3-none-manylinux2014_x86_64.whl (13.8 MB)\n",
      "\u001b[2K   \u001b[90m━━━━━━━━━━━━━━━━━━━━━━━━━━━━━━━━━━━━━━━━\u001b[0m \u001b[32m13.8/13.8 MB\u001b[0m \u001b[31m46.7 MB/s\u001b[0m eta \u001b[36m0:00:00\u001b[0m\n",
      "\u001b[?25hDownloading nvidia_cuda_nvrtc_cu12-12.4.127-py3-none-manylinux2014_x86_64.whl (24.6 MB)\n",
      "\u001b[2K   \u001b[90m━━━━━━━━━━━━━━━━━━━━━━━━━━━━━━━━━━━━━━━━\u001b[0m \u001b[32m24.6/24.6 MB\u001b[0m \u001b[31m38.3 MB/s\u001b[0m eta \u001b[36m0:00:00\u001b[0m\n",
      "\u001b[?25hDownloading nvidia_cuda_runtime_cu12-12.4.127-py3-none-manylinux2014_x86_64.whl (883 kB)\n",
      "\u001b[2K   \u001b[90m━━━━━━━━━━━━━━━━━━━━━━━━━━━━━━━━━━━━━━━━\u001b[0m \u001b[32m883.7/883.7 kB\u001b[0m \u001b[31m42.5 MB/s\u001b[0m eta \u001b[36m0:00:00\u001b[0m\n",
      "\u001b[?25hDownloading nvidia_cudnn_cu12-9.1.0.70-py3-none-manylinux2014_x86_64.whl (664.8 MB)\n",
      "\u001b[2K   \u001b[90m━━━━━━━━━━━━━━━━━━━━━━━━━━━━━━━━━━━━━━━━\u001b[0m \u001b[32m664.8/664.8 MB\u001b[0m \u001b[31m2.1 MB/s\u001b[0m eta \u001b[36m0:00:00\u001b[0m\n",
      "\u001b[?25hDownloading nvidia_cufft_cu12-11.2.1.3-py3-none-manylinux2014_x86_64.whl (211.5 MB)\n",
      "\u001b[2K   \u001b[90m━━━━━━━━━━━━━━━━━━━━━━━━━━━━━━━━━━━━━━━━\u001b[0m \u001b[32m211.5/211.5 MB\u001b[0m \u001b[31m5.4 MB/s\u001b[0m eta \u001b[36m0:00:00\u001b[0m\n",
      "\u001b[?25hDownloading nvidia_curand_cu12-10.3.5.147-py3-none-manylinux2014_x86_64.whl (56.3 MB)\n",
      "\u001b[2K   \u001b[90m━━━━━━━━━━━━━━━━━━━━━━━━━━━━━━━━━━━━━━━━\u001b[0m \u001b[32m56.3/56.3 MB\u001b[0m \u001b[31m16.8 MB/s\u001b[0m eta \u001b[36m0:00:00\u001b[0m\n",
      "\u001b[?25hDownloading nvidia_cusolver_cu12-11.6.1.9-py3-none-manylinux2014_x86_64.whl (127.9 MB)\n",
      "\u001b[2K   \u001b[90m━━━━━━━━━━━━━━━━━━━━━━━━━━━━━━━━━━━━━━━━\u001b[0m \u001b[32m127.9/127.9 MB\u001b[0m \u001b[31m7.5 MB/s\u001b[0m eta \u001b[36m0:00:00\u001b[0m\n",
      "\u001b[?25hDownloading nvidia_cusparse_cu12-12.3.1.170-py3-none-manylinux2014_x86_64.whl (207.5 MB)\n",
      "\u001b[2K   \u001b[90m━━━━━━━━━━━━━━━━━━━━━━━━━━━━━━━━━━━━━━━━\u001b[0m \u001b[32m207.5/207.5 MB\u001b[0m \u001b[31m7.7 MB/s\u001b[0m eta \u001b[36m0:00:00\u001b[0m\n",
      "\u001b[?25hDownloading nvidia_nvjitlink_cu12-12.4.127-py3-none-manylinux2014_x86_64.whl (21.1 MB)\n",
      "\u001b[2K   \u001b[90m━━━━━━━━━━━━━━━━━━━━━━━━━━━━━━━━━━━━━━━━\u001b[0m \u001b[32m21.1/21.1 MB\u001b[0m \u001b[31m61.9 MB/s\u001b[0m eta \u001b[36m0:00:00\u001b[0m\n",
      "\u001b[?25hInstalling collected packages: nvidia-nvjitlink-cu12, nvidia-curand-cu12, nvidia-cufft-cu12, nvidia-cuda-runtime-cu12, nvidia-cuda-nvrtc-cu12, nvidia-cuda-cupti-cu12, nvidia-cublas-cu12, nvidia-cusparse-cu12, nvidia-cudnn-cu12, nvidia-cusolver-cu12, transformers, bitsandbytes\n",
      "  Attempting uninstall: nvidia-nvjitlink-cu12\n",
      "    Found existing installation: nvidia-nvjitlink-cu12 12.5.82\n",
      "    Uninstalling nvidia-nvjitlink-cu12-12.5.82:\n",
      "      Successfully uninstalled nvidia-nvjitlink-cu12-12.5.82\n",
      "  Attempting uninstall: nvidia-curand-cu12\n",
      "    Found existing installation: nvidia-curand-cu12 10.3.6.82\n",
      "    Uninstalling nvidia-curand-cu12-10.3.6.82:\n",
      "      Successfully uninstalled nvidia-curand-cu12-10.3.6.82\n",
      "  Attempting uninstall: nvidia-cufft-cu12\n",
      "    Found existing installation: nvidia-cufft-cu12 11.2.3.61\n",
      "    Uninstalling nvidia-cufft-cu12-11.2.3.61:\n",
      "      Successfully uninstalled nvidia-cufft-cu12-11.2.3.61\n",
      "  Attempting uninstall: nvidia-cuda-runtime-cu12\n",
      "    Found existing installation: nvidia-cuda-runtime-cu12 12.5.82\n",
      "    Uninstalling nvidia-cuda-runtime-cu12-12.5.82:\n",
      "      Successfully uninstalled nvidia-cuda-runtime-cu12-12.5.82\n",
      "  Attempting uninstall: nvidia-cuda-nvrtc-cu12\n",
      "    Found existing installation: nvidia-cuda-nvrtc-cu12 12.5.82\n",
      "    Uninstalling nvidia-cuda-nvrtc-cu12-12.5.82:\n",
      "      Successfully uninstalled nvidia-cuda-nvrtc-cu12-12.5.82\n",
      "  Attempting uninstall: nvidia-cuda-cupti-cu12\n",
      "    Found existing installation: nvidia-cuda-cupti-cu12 12.5.82\n",
      "    Uninstalling nvidia-cuda-cupti-cu12-12.5.82:\n",
      "      Successfully uninstalled nvidia-cuda-cupti-cu12-12.5.82\n",
      "  Attempting uninstall: nvidia-cublas-cu12\n",
      "    Found existing installation: nvidia-cublas-cu12 12.5.3.2\n",
      "    Uninstalling nvidia-cublas-cu12-12.5.3.2:\n",
      "      Successfully uninstalled nvidia-cublas-cu12-12.5.3.2\n",
      "  Attempting uninstall: nvidia-cusparse-cu12\n",
      "    Found existing installation: nvidia-cusparse-cu12 12.5.1.3\n",
      "    Uninstalling nvidia-cusparse-cu12-12.5.1.3:\n",
      "      Successfully uninstalled nvidia-cusparse-cu12-12.5.1.3\n",
      "  Attempting uninstall: nvidia-cudnn-cu12\n",
      "    Found existing installation: nvidia-cudnn-cu12 9.3.0.75\n",
      "    Uninstalling nvidia-cudnn-cu12-9.3.0.75:\n",
      "      Successfully uninstalled nvidia-cudnn-cu12-9.3.0.75\n",
      "  Attempting uninstall: nvidia-cusolver-cu12\n",
      "    Found existing installation: nvidia-cusolver-cu12 11.6.3.83\n",
      "    Uninstalling nvidia-cusolver-cu12-11.6.3.83:\n",
      "      Successfully uninstalled nvidia-cusolver-cu12-11.6.3.83\n",
      "  Attempting uninstall: transformers\n",
      "    Found existing installation: transformers 4.54.0\n",
      "    Uninstalling transformers-4.54.0:\n",
      "      Successfully uninstalled transformers-4.54.0\n",
      "Successfully installed bitsandbytes-0.46.1 nvidia-cublas-cu12-12.4.5.8 nvidia-cuda-cupti-cu12-12.4.127 nvidia-cuda-nvrtc-cu12-12.4.127 nvidia-cuda-runtime-cu12-12.4.127 nvidia-cudnn-cu12-9.1.0.70 nvidia-cufft-cu12-11.2.1.3 nvidia-curand-cu12-10.3.5.147 nvidia-cusolver-cu12-11.6.1.9 nvidia-cusparse-cu12-12.3.1.170 nvidia-nvjitlink-cu12-12.4.127 transformers-4.54.1\n"
     ]
    },
    {
     "name": "stderr",
     "output_type": "stream",
     "text": [
      "/usr/local/lib/python3.11/dist-packages/huggingface_hub/utils/_auth.py:94: UserWarning: \n",
      "The secret `HF_TOKEN` does not exist in your Colab secrets.\n",
      "To authenticate with the Hugging Face Hub, create a token in your settings tab (https://huggingface.co/settings/tokens), set it as secret in your Google Colab and restart your session.\n",
      "You will be able to reuse this secret in all of your notebooks.\n",
      "Please note that authentication is recommended but still optional to access public models or datasets.\n",
      "  warnings.warn(\n"
     ]
    },
    {
     "data": {
      "application/vnd.jupyter.widget-view+json": {
       "model_id": "db662b9b9d7d42a4a85a8ceae1db0bcf",
       "version_major": 2,
       "version_minor": 0
      },
      "text/plain": [
       "tokenizer_config.json: 0.00B [00:00, ?B/s]"
      ]
     },
     "metadata": {},
     "output_type": "display_data"
    },
    {
     "data": {
      "application/vnd.jupyter.widget-view+json": {
       "model_id": "100a8022e2d647ccb4b9197835b1eba6",
       "version_major": 2,
       "version_minor": 0
      },
      "text/plain": [
       "vocab.json: 0.00B [00:00, ?B/s]"
      ]
     },
     "metadata": {},
     "output_type": "display_data"
    },
    {
     "data": {
      "application/vnd.jupyter.widget-view+json": {
       "model_id": "33fc5c37bd3c40eba4f3efed3ea721a4",
       "version_major": 2,
       "version_minor": 0
      },
      "text/plain": [
       "merges.txt: 0.00B [00:00, ?B/s]"
      ]
     },
     "metadata": {},
     "output_type": "display_data"
    },
    {
     "data": {
      "application/vnd.jupyter.widget-view+json": {
       "model_id": "418141f3d17045198aec335638a8edc2",
       "version_major": 2,
       "version_minor": 0
      },
      "text/plain": [
       "tokenizer.json: 0.00B [00:00, ?B/s]"
      ]
     },
     "metadata": {},
     "output_type": "display_data"
    },
    {
     "data": {
      "application/vnd.jupyter.widget-view+json": {
       "model_id": "73e437f6f2a94d2ba7e2ca802dae01fb",
       "version_major": 2,
       "version_minor": 0
      },
      "text/plain": [
       "config.json:   0%|          | 0.00/663 [00:00<?, ?B/s]"
      ]
     },
     "metadata": {},
     "output_type": "display_data"
    },
    {
     "data": {
      "application/vnd.jupyter.widget-view+json": {
       "model_id": "70a3c1a9ba98461c93a01609fbbac3ca",
       "version_major": 2,
       "version_minor": 0
      },
      "text/plain": [
       "model.safetensors.index.json: 0.00B [00:00, ?B/s]"
      ]
     },
     "metadata": {},
     "output_type": "display_data"
    },
    {
     "data": {
      "application/vnd.jupyter.widget-view+json": {
       "model_id": "7fa7d504e3b64839b3396ab1bc6d1754",
       "version_major": 2,
       "version_minor": 0
      },
      "text/plain": [
       "Fetching 8 files:   0%|          | 0/8 [00:00<?, ?it/s]"
      ]
     },
     "metadata": {},
     "output_type": "display_data"
    },
    {
     "data": {
      "application/vnd.jupyter.widget-view+json": {
       "model_id": "c2bf133e38d2421fb8a5f3c9fb79c9f5",
       "version_major": 2,
       "version_minor": 0
      },
      "text/plain": [
       "model-00006-of-00008.safetensors:   0%|          | 0.00/4.00G [00:00<?, ?B/s]"
      ]
     },
     "metadata": {},
     "output_type": "display_data"
    },
    {
     "data": {
      "application/vnd.jupyter.widget-view+json": {
       "model_id": "6089a1b4acb14361aaeaee8ba97eb21b",
       "version_major": 2,
       "version_minor": 0
      },
      "text/plain": [
       "model-00004-of-00008.safetensors:   0%|          | 0.00/4.00G [00:00<?, ?B/s]"
      ]
     },
     "metadata": {},
     "output_type": "display_data"
    },
    {
     "data": {
      "application/vnd.jupyter.widget-view+json": {
       "model_id": "3ad62a8291f34942a6384fc58d513736",
       "version_major": 2,
       "version_minor": 0
      },
      "text/plain": [
       "model-00001-of-00008.safetensors:   0%|          | 0.00/3.89G [00:00<?, ?B/s]"
      ]
     },
     "metadata": {},
     "output_type": "display_data"
    },
    {
     "data": {
      "application/vnd.jupyter.widget-view+json": {
       "model_id": "295d55129ffc4aae9e658961978fb873",
       "version_major": 2,
       "version_minor": 0
      },
      "text/plain": [
       "model-00008-of-00008.safetensors:   0%|          | 0.00/1.70G [00:00<?, ?B/s]"
      ]
     },
     "metadata": {},
     "output_type": "display_data"
    },
    {
     "data": {
      "application/vnd.jupyter.widget-view+json": {
       "model_id": "71cad0b68c354f7e9ac747a029800a31",
       "version_major": 2,
       "version_minor": 0
      },
      "text/plain": [
       "model-00007-of-00008.safetensors:   0%|          | 0.00/4.00G [00:00<?, ?B/s]"
      ]
     },
     "metadata": {},
     "output_type": "display_data"
    },
    {
     "data": {
      "application/vnd.jupyter.widget-view+json": {
       "model_id": "c0296f3fa25644e5a027ba83490f9e36",
       "version_major": 2,
       "version_minor": 0
      },
      "text/plain": [
       "model-00003-of-00008.safetensors:   0%|          | 0.00/4.00G [00:00<?, ?B/s]"
      ]
     },
     "metadata": {},
     "output_type": "display_data"
    },
    {
     "data": {
      "application/vnd.jupyter.widget-view+json": {
       "model_id": "d59a2a6af18f4a3db7fff8c5e095589f",
       "version_major": 2,
       "version_minor": 0
      },
      "text/plain": [
       "model-00005-of-00008.safetensors:   0%|          | 0.00/3.98G [00:00<?, ?B/s]"
      ]
     },
     "metadata": {},
     "output_type": "display_data"
    },
    {
     "data": {
      "application/vnd.jupyter.widget-view+json": {
       "model_id": "388bc1c4357441ed88252f749f60b626",
       "version_major": 2,
       "version_minor": 0
      },
      "text/plain": [
       "model-00002-of-00008.safetensors:   0%|          | 0.00/4.00G [00:00<?, ?B/s]"
      ]
     },
     "metadata": {},
     "output_type": "display_data"
    },
    {
     "data": {
      "application/vnd.jupyter.widget-view+json": {
       "model_id": "79e67a45088f4ed9b8b286d43e34729e",
       "version_major": 2,
       "version_minor": 0
      },
      "text/plain": [
       "Loading checkpoint shards:   0%|          | 0/8 [00:00<?, ?it/s]"
      ]
     },
     "metadata": {},
     "output_type": "display_data"
    },
    {
     "data": {
      "application/vnd.jupyter.widget-view+json": {
       "model_id": "344cdda2e2ea4f4793330729e1615c21",
       "version_major": 2,
       "version_minor": 0
      },
      "text/plain": [
       "generation_config.json:   0%|          | 0.00/242 [00:00<?, ?B/s]"
      ]
     },
     "metadata": {},
     "output_type": "display_data"
    }
   ],
   "source": [
    "# Install required libraries\n",
    "!pip install --upgrade bitsandbytes transformers accelerate\n",
    "\n",
    "# Import modules\n",
    "from transformers import AutoModelForCausalLM, AutoTokenizer, BitsAndBytesConfig\n",
    "\n",
    "# Define model and quantization config\n",
    "model_id = \"Qwen/Qwen2.5-14B-Instruct\"\n",
    "bnb_config = BitsAndBytesConfig(\n",
    "    load_in_4bit=True,                   # Enable 4-bit quantization\n",
    "    bnb_4bit_quant_type='nf4',           # Use nf4 quantization type\n",
    "    bnb_4bit_use_double_quant=True,      # Nested quantization for more compression\n",
    "    bnb_4bit_compute_dtype='bfloat16'    # Use bfloat16 for compute (preferred on T4 GPU)\n",
    ")\n",
    "\n",
    "# Load tokenizer and model with compression\n",
    "tokenizer = AutoTokenizer.from_pretrained(model_id, trust_remote_code=True)\n",
    "model = AutoModelForCausalLM.from_pretrained(\n",
    "    model_id,\n",
    "    quantization_config=bnb_config,\n",
    "    device_map='auto',                   # Place on GPU automatically\n",
    "    trust_remote_code=True,\n",
    "    torch_dtype='auto'\n",
    ")\n"
   ]
  },
  {
   "cell_type": "code",
   "execution_count": 2,
   "metadata": {
    "colab": {
     "base_uri": "https://localhost:8080/"
    },
    "id": "Zb_9kC5rrfES",
    "outputId": "2b6d3b20-c2a3-4ba5-a556-9833e536aa4c"
   },
   "outputs": [
    {
     "name": "stdout",
     "output_type": "stream",
     "text": [
      "Describe the benefits of model quantization. Model quantization is a technique used to reduce the size and computational cost of deep learning models by reducing the precision of their weights and activations from full-precision (e.g., 32-bit floating-point) to lower precision (e.g., 8-bit integers). Here are some key benefits of model quantization:\n",
      "\n",
      "1. **Reduced Model Size**: Quantizing a model reduces its storage requirements because lower precision data types require fewer bits to represent the same information. This can be particularly important for\n"
     ]
    }
   ],
   "source": [
    "# Test prompt\n",
    "prompt = \"Describe the benefits of model quantization.\"\n",
    "\n",
    "# Tokenize input and run inference\n",
    "inputs = tokenizer(prompt, return_tensors=\"pt\").to(model.device)\n",
    "outputs = model.generate(**inputs, max_new_tokens=100)\n",
    "\n",
    "# Decode and display output\n",
    "print(tokenizer.decode(outputs[0], skip_special_tokens=True))\n"
   ]
  },
  {
   "cell_type": "code",
   "execution_count": 3,
   "metadata": {
    "colab": {
     "base_uri": "https://localhost:8080/"
    },
    "id": "GhS0VwnWxwqd",
    "outputId": "f900443c-9327-4a84-9f8e-db646d703550"
   },
   "outputs": [
    {
     "data": {
      "text/plain": [
       "('./qwen2.5-14b-4bit/tokenizer_config.json',\n",
       " './qwen2.5-14b-4bit/special_tokens_map.json',\n",
       " './qwen2.5-14b-4bit/chat_template.jinja',\n",
       " './qwen2.5-14b-4bit/vocab.json',\n",
       " './qwen2.5-14b-4bit/merges.txt',\n",
       " './qwen2.5-14b-4bit/added_tokens.json',\n",
       " './qwen2.5-14b-4bit/tokenizer.json')"
      ]
     },
     "execution_count": 3,
     "metadata": {},
     "output_type": "execute_result"
    }
   ],
   "source": [
    "# Save compressed (quantized) model and tokenizer to a directory\n",
    "output_dir = \"./qwen2.5-14b-4bit\"\n",
    "model.save_pretrained(output_dir)\n",
    "tokenizer.save_pretrained(output_dir)\n"
   ]
  },
  {
   "cell_type": "code",
   "execution_count": 5,
   "metadata": {
    "colab": {
     "base_uri": "https://localhost:8080/"
    },
    "id": "gShjgrV_yPjv",
    "outputId": "a2fa45bf-f771-4573-9f71-412f5f1dc8fc"
   },
   "outputs": [
    {
     "name": "stdout",
     "output_type": "stream",
     "text": [
      "9.3G\t./qwen2.5-14b-4bit\n"
     ]
    }
   ],
   "source": [
    "!du -sh ./qwen2.5-14b-4bit\n",
    "\n"
   ]
  },
  {
   "cell_type": "code",
   "execution_count": 6,
   "metadata": {
    "colab": {
     "base_uri": "https://localhost:8080/"
    },
    "id": "XsCbRtQ60wtN",
    "outputId": "93f6dda3-337d-4b04-f98a-4d517344a7b7"
   },
   "outputs": [
    {
     "name": "stdout",
     "output_type": "stream",
     "text": [
      "Requirement already satisfied: huggingface_hub in /usr/local/lib/python3.11/dist-packages (0.34.1)\n",
      "Collecting huggingface_hub\n",
      "  Downloading huggingface_hub-0.34.3-py3-none-any.whl.metadata (14 kB)\n",
      "Requirement already satisfied: filelock in /usr/local/lib/python3.11/dist-packages (from huggingface_hub) (3.18.0)\n",
      "Requirement already satisfied: fsspec>=2023.5.0 in /usr/local/lib/python3.11/dist-packages (from huggingface_hub) (2025.3.0)\n",
      "Requirement already satisfied: packaging>=20.9 in /usr/local/lib/python3.11/dist-packages (from huggingface_hub) (25.0)\n",
      "Requirement already satisfied: pyyaml>=5.1 in /usr/local/lib/python3.11/dist-packages (from huggingface_hub) (6.0.2)\n",
      "Requirement already satisfied: requests in /usr/local/lib/python3.11/dist-packages (from huggingface_hub) (2.32.3)\n",
      "Requirement already satisfied: tqdm>=4.42.1 in /usr/local/lib/python3.11/dist-packages (from huggingface_hub) (4.67.1)\n",
      "Requirement already satisfied: typing-extensions>=3.7.4.3 in /usr/local/lib/python3.11/dist-packages (from huggingface_hub) (4.14.1)\n",
      "Requirement already satisfied: hf-xet<2.0.0,>=1.1.3 in /usr/local/lib/python3.11/dist-packages (from huggingface_hub) (1.1.5)\n",
      "Requirement already satisfied: charset-normalizer<4,>=2 in /usr/local/lib/python3.11/dist-packages (from requests->huggingface_hub) (3.4.2)\n",
      "Requirement already satisfied: idna<4,>=2.5 in /usr/local/lib/python3.11/dist-packages (from requests->huggingface_hub) (3.10)\n",
      "Requirement already satisfied: urllib3<3,>=1.21.1 in /usr/local/lib/python3.11/dist-packages (from requests->huggingface_hub) (2.5.0)\n",
      "Requirement already satisfied: certifi>=2017.4.17 in /usr/local/lib/python3.11/dist-packages (from requests->huggingface_hub) (2025.7.14)\n",
      "Downloading huggingface_hub-0.34.3-py3-none-any.whl (558 kB)\n",
      "\u001b[2K   \u001b[90m━━━━━━━━━━━━━━━━━━━━━━━━━━━━━━━━━━━━━━━━\u001b[0m \u001b[32m558.8/558.8 kB\u001b[0m \u001b[31m14.0 MB/s\u001b[0m eta \u001b[36m0:00:00\u001b[0m\n",
      "\u001b[?25hInstalling collected packages: huggingface_hub\n",
      "  Attempting uninstall: huggingface_hub\n",
      "    Found existing installation: huggingface-hub 0.34.1\n",
      "    Uninstalling huggingface-hub-0.34.1:\n",
      "      Successfully uninstalled huggingface-hub-0.34.1\n",
      "Successfully installed huggingface_hub-0.34.3\n"
     ]
    }
   ],
   "source": [
    "!pip install huggingface_hub --upgrade\n"
   ]
  },
  {
   "cell_type": "code",
   "execution_count": 8,
   "metadata": {
    "colab": {
     "base_uri": "https://localhost:8080/",
     "height": 17,
     "referenced_widgets": [
      "b597ff7c4ebd49d58da69b2864b2b6a2",
      "b010916e2e434c20b91029ed805ed87b",
      "12b009b729614b28ba94219b5cbe0eb1",
      "4cba50306f0640b08ac70f44707036fc",
      "b3e4581e9ca64586bb589fc8118395c3",
      "e965bf5d34504e1b84017b7c058b2b6b",
      "3ed3d6bff1d541e197610f82d178cf6c",
      "9049ef55a7b9450e87d45b2650aa9ea0",
      "5583a703fe554baaac6109704c4f1b2b",
      "853d90acebe14974805501785854e768",
      "0f4607f0a05c40ff88dc8812a7f03969",
      "274084603bff41c1a8820b5c0187029f",
      "017ecd8e3ed1470db3b4c6f3fffbe3a7",
      "7a2f54dd810844898bbb3e648e6eb86b",
      "55cd637c2e70437f98313893c4d68105",
      "9956551bba41431f9df2954e07e5cb89",
      "de61beb5053f4e0d879d24febf3a6037",
      "8213580571ea4233b0f8dc5dfa1bd7c3",
      "ae31ba35b56f4f84a6c2fef55545fdd9",
      "01f417c807de44b496dcc329474d3641"
     ]
    },
    "id": "cIJQxWSV24d8",
    "outputId": "11ca3f64-2cd3-488b-81c9-b095d90d2fa3"
   },
   "outputs": [
    {
     "data": {
      "application/vnd.jupyter.widget-view+json": {
       "model_id": "b597ff7c4ebd49d58da69b2864b2b6a2",
       "version_major": 2,
       "version_minor": 0
      },
      "text/plain": [
       "VBox(children=(HTML(value='<center> <img\\nsrc=https://huggingface.co/front/assets/huggingface_logo-noborder.sv…"
      ]
     },
     "metadata": {},
     "output_type": "display_data"
    }
   ],
   "source": [
    "from huggingface_hub import login\n",
    "login()  # It will prompt for your Hugging Face access token\n"
   ]
  },
  {
   "cell_type": "code",
   "execution_count": 9,
   "metadata": {
    "colab": {
     "base_uri": "https://localhost:8080/"
    },
    "id": "xZz-JqPq3fBD",
    "outputId": "c18da39d-dec0-41f3-9cf5-6111c2fc4d2e"
   },
   "outputs": [
    {
     "name": "stdout",
     "output_type": "stream",
     "text": [
      "{'type': 'user', 'id': '67d5ce595822839a766edb03', 'name': 'madhan9063', 'fullname': 'madhan', 'isPro': False, 'avatarUrl': '/avatars/dd5ade0848b1c9b25bab2f4b26ea5506.svg', 'orgs': [], 'auth': {'type': 'access_token', 'accessToken': {'displayName': 'colab-upload', 'role': 'fineGrained', 'createdAt': '2025-08-02T13:04:12.579Z', 'fineGrained': {'canReadGatedRepos': True, 'global': [], 'scoped': [{'entity': {'_id': '67d5ce595822839a766edb03', 'type': 'user', 'name': 'madhan9063'}, 'permissions': ['repo.content.read', 'repo.write']}]}}}}\n"
     ]
    }
   ],
   "source": [
    "from huggingface_hub import whoami\n",
    "print(whoami())\n"
   ]
  },
  {
   "cell_type": "code",
   "execution_count": 11,
   "metadata": {
    "colab": {
     "base_uri": "https://localhost:8080/",
     "height": 52
    },
    "id": "ZLkPkupC5am6",
    "outputId": "78acfc6a-8775-40da-bdae-d89dd1af27f0"
   },
   "outputs": [
    {
     "data": {
      "application/vnd.google.colaboratory.intrinsic+json": {
       "type": "string"
      },
      "text/plain": [
       "RepoUrl('https://huggingface.co/madhan9063/qwen2.5-14b-4bit', endpoint='https://huggingface.co', repo_type='model', repo_id='madhan9063/qwen2.5-14b-4bit')"
      ]
     },
     "execution_count": 11,
     "metadata": {},
     "output_type": "execute_result"
    }
   ],
   "source": [
    "from huggingface_hub import HfApi\n",
    "\n",
    "api = HfApi()\n",
    "api.create_repo(\n",
    "    repo_id=\"qwen2.5-14b-4bit\",         # Only the repo name, NOT 'username/repo'\n",
    "    private=False,                      # Set to True if you want it private\n",
    "    exist_ok=True                       # Won't error if repo already exists\n",
    ")\n"
   ]
  },
  {
   "cell_type": "code",
   "execution_count": 12,
   "metadata": {
    "colab": {
     "base_uri": "https://localhost:8080/",
     "height": 214,
     "referenced_widgets": [
      "ac67c6b14c8e4806a0b32495cca38696",
      "eb736be77e0646ad8d0ec1d518debf40",
      "6f031e7d4a094f0fad839be74347bc03",
      "f746f7e896684c358a585b4337c17c9d",
      "c233ccfabb6b43438f9272b8486f159f",
      "0b807d1b86a4416d852c7ee6d37ff782",
      "077ed50541bf4536ba02d1906cc09fae",
      "f22772b9d89149f08c4d1e9516f9ff00",
      "73d9bc11b7284a3ea0733b7a3de150f4",
      "917341db48734bbeb33c8c2b95ad11d0",
      "c32c187ef4d14f28a866a9d365370e58",
      "11070b2acb90481a8833b5d37fb7608b",
      "57d58ba33fe943e38b6fe938d11cf321",
      "21e9067fb86843de9586edf6f06e3636",
      "06d3b5be611844138bd2691c435e1046",
      "c2bad6b63053444e8673c4c032d9739f",
      "66540552e1ef43869ca10241930004ff",
      "ef35e18432a440279fb2543be1681877",
      "33d5412525074226b6c8905a9d3aff68",
      "ce5c5f21d7e948549665828700addc36",
      "e4a0d5b30dc24c939ad53ac6542fc879",
      "44aacb2537224604b6aeb92c142445f3",
      "5e19687c1d8a4661be616cf53078cb28",
      "61158989a1a44a86897525c3a3426488",
      "48f0ed50f129457c970f0ab3fa9665bc",
      "43be55327325411abc685a96dce5bd68",
      "46d88155bd434b6196ee9dbe979aceaf",
      "bc6fb0915bc9438ea337c7716739d3cb",
      "74a4d4121d22494ca75e51c632540acb",
      "e87be362f0e5447e9509fc8ffa2a1b62",
      "bb513c45d59d49ef8cbb48f0cf207dae",
      "ddc7e2e0593c440482b664e1815f9eb0",
      "ae45db5e665f4385a687fd69348442d3",
      "d58f46d727ab493bb9a2ce207222a797",
      "6348f25df984471fad92e50c551de641",
      "285d1816adda428ebb44dcc01ffe21f2",
      "d90814ff105343f792abb122013fb26d",
      "158dc978bce9405eb9bf23e9ba93bc44",
      "e7757481ad714a959c8717f349c4c784",
      "3882eaea9cb24433ae5b06d6bf37a7d8",
      "27876a043fef430c803501f4565e3bb9",
      "0479d7d00a4b446ea9f0d9e2fcb4af51",
      "8813eb1d018f495f8819b04d5776f2ce",
      "7e5c46252115424aa594177c0b769d02"
     ]
    },
    "id": "-7w-38Nu5-Ju",
    "outputId": "a874389a-7e83-4d25-b041-fe814b63b634"
   },
   "outputs": [
    {
     "data": {
      "application/vnd.jupyter.widget-view+json": {
       "model_id": "ac67c6b14c8e4806a0b32495cca38696",
       "version_major": 2,
       "version_minor": 0
      },
      "text/plain": [
       "Upload 3 LFS files:   0%|          | 0/3 [00:00<?, ?it/s]"
      ]
     },
     "metadata": {},
     "output_type": "display_data"
    },
    {
     "data": {
      "application/vnd.jupyter.widget-view+json": {
       "model_id": "11070b2acb90481a8833b5d37fb7608b",
       "version_major": 2,
       "version_minor": 0
      },
      "text/plain": [
       "model-00002-of-00002.safetensors:   0%|          | 0.00/4.93G [00:00<?, ?B/s]"
      ]
     },
     "metadata": {},
     "output_type": "display_data"
    },
    {
     "data": {
      "application/vnd.jupyter.widget-view+json": {
       "model_id": "5e19687c1d8a4661be616cf53078cb28",
       "version_major": 2,
       "version_minor": 0
      },
      "text/plain": [
       "model-00001-of-00002.safetensors:   0%|          | 0.00/5.00G [00:00<?, ?B/s]"
      ]
     },
     "metadata": {},
     "output_type": "display_data"
    },
    {
     "data": {
      "application/vnd.jupyter.widget-view+json": {
       "model_id": "d58f46d727ab493bb9a2ce207222a797",
       "version_major": 2,
       "version_minor": 0
      },
      "text/plain": [
       "tokenizer.json:   0%|          | 0.00/11.4M [00:00<?, ?B/s]"
      ]
     },
     "metadata": {},
     "output_type": "display_data"
    },
    {
     "data": {
      "application/vnd.google.colaboratory.intrinsic+json": {
       "type": "string"
      },
      "text/plain": [
       "CommitInfo(commit_url='https://huggingface.co/madhan9063/qwen2.5-14b-4bit/commit/117e7b0419b9d0f3587af0a42232497d51f5d119', commit_message='Upload folder using huggingface_hub', commit_description='', oid='117e7b0419b9d0f3587af0a42232497d51f5d119', pr_url=None, repo_url=RepoUrl('https://huggingface.co/madhan9063/qwen2.5-14b-4bit', endpoint='https://huggingface.co', repo_type='model', repo_id='madhan9063/qwen2.5-14b-4bit'), pr_revision=None, pr_num=None)"
      ]
     },
     "execution_count": 12,
     "metadata": {},
     "output_type": "execute_result"
    }
   ],
   "source": [
    "from huggingface_hub import upload_folder\n",
    "\n",
    "upload_folder(\n",
    "    folder_path=\"./qwen2.5-14b-4bit\",\n",
    "    repo_id=\"madhan9063/qwen2.5-14b-4bit\",  # Use username/repo_name format here\n",
    "    repo_type=\"model\"\n",
    ")\n"
   ]
  },
  {
   "cell_type": "code",
   "execution_count": null,
   "metadata": {
    "id": "Z40BJ9zf_--6"
   },
   "outputs": [],
   "source": []
  }
 ],
 "metadata": {
  "accelerator": "GPU",
  "colab": {
   "gpuType": "T4",
   "provenance": []
  },
  "kernelspec": {
   "display_name": "Python 3",
   "name": "python3"
  },
  "language_info": {
   "name": "python"
  }
 },
 "nbformat": 4,
 "nbformat_minor": 0
}
